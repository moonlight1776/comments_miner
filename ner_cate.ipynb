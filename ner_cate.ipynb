{
 "cells": [
  {
   "cell_type": "code",
   "execution_count": 3,
   "metadata": {},
   "outputs": [],
   "source": [
    "import pandas as pd"
   ]
  },
  {
   "cell_type": "code",
   "execution_count": 18,
   "metadata": {},
   "outputs": [],
   "source": [
    "data=pd.read_pickle('result/classify_cate.pkl')\n",
    "data['match'] = data.apply(lambda x:x.label==x.predict,axis=1)"
   ]
  },
  {
   "cell_type": "code",
   "execution_count": 19,
   "metadata": {},
   "outputs": [
    {
     "data": {
      "text/html": [
       "<div>\n",
       "<style scoped>\n",
       "    .dataframe tbody tr th:only-of-type {\n",
       "        vertical-align: middle;\n",
       "    }\n",
       "\n",
       "    .dataframe tbody tr th {\n",
       "        vertical-align: top;\n",
       "    }\n",
       "\n",
       "    .dataframe thead th {\n",
       "        text-align: right;\n",
       "    }\n",
       "</style>\n",
       "<table border=\"1\" class=\"dataframe\">\n",
       "  <thead>\n",
       "    <tr style=\"text-align: right;\">\n",
       "      <th></th>\n",
       "      <th>text</th>\n",
       "      <th>pos1</th>\n",
       "      <th>pos2</th>\n",
       "      <th>label</th>\n",
       "      <th>predict</th>\n",
       "      <th>match</th>\n",
       "    </tr>\n",
       "  </thead>\n",
       "  <tbody>\n",
       "    <tr>\n",
       "      <th>0</th>\n",
       "      <td>很好，超值，很好用</td>\n",
       "      <td>None</td>\n",
       "      <td>(0, 1)</td>\n",
       "      <td>整体</td>\n",
       "      <td>整体</td>\n",
       "      <td>True</td>\n",
       "    </tr>\n",
       "    <tr>\n",
       "      <th>1</th>\n",
       "      <td>很好，超值，很好用</td>\n",
       "      <td>None</td>\n",
       "      <td>(3, 4)</td>\n",
       "      <td>价格</td>\n",
       "      <td>价格</td>\n",
       "      <td>True</td>\n",
       "    </tr>\n",
       "    <tr>\n",
       "      <th>2</th>\n",
       "      <td>很好，超值，很好用</td>\n",
       "      <td>None</td>\n",
       "      <td>(6, 8)</td>\n",
       "      <td>整体</td>\n",
       "      <td>整体</td>\n",
       "      <td>True</td>\n",
       "    </tr>\n",
       "    <tr>\n",
       "      <th>3</th>\n",
       "      <td>很好，遮暇功能差一些，总体还不错</td>\n",
       "      <td>None</td>\n",
       "      <td>(0, 1)</td>\n",
       "      <td>整体</td>\n",
       "      <td>整体</td>\n",
       "      <td>True</td>\n",
       "    </tr>\n",
       "    <tr>\n",
       "      <th>4</th>\n",
       "      <td>很好，遮暇功能差一些，总体还不错</td>\n",
       "      <td>(3, 6)</td>\n",
       "      <td>(7, 9)</td>\n",
       "      <td>功效</td>\n",
       "      <td>功效</td>\n",
       "      <td>True</td>\n",
       "    </tr>\n",
       "  </tbody>\n",
       "</table>\n",
       "</div>"
      ],
      "text/plain": [
       "               text    pos1    pos2 label predict  match\n",
       "0         很好，超值，很好用    None  (0, 1)    整体      整体   True\n",
       "1         很好，超值，很好用    None  (3, 4)    价格      价格   True\n",
       "2         很好，超值，很好用    None  (6, 8)    整体      整体   True\n",
       "3  很好，遮暇功能差一些，总体还不错    None  (0, 1)    整体      整体   True\n",
       "4  很好，遮暇功能差一些，总体还不错  (3, 6)  (7, 9)    功效      功效   True"
      ]
     },
     "execution_count": 19,
     "metadata": {},
     "output_type": "execute_result"
    }
   ],
   "source": [
    "data.head()"
   ]
  },
  {
   "cell_type": "code",
   "execution_count": 4,
   "metadata": {},
   "outputs": [],
   "source": [
    "data2=pd.read_pickle('result/classify_polarity.pkl')\n",
    "data2['match'] = data2.apply(lambda x:x.label==x.predict,axis=1)"
   ]
  },
  {
   "cell_type": "code",
   "execution_count": 5,
   "metadata": {},
   "outputs": [
    {
     "data": {
      "text/html": [
       "<div>\n",
       "<style scoped>\n",
       "    .dataframe tbody tr th:only-of-type {\n",
       "        vertical-align: middle;\n",
       "    }\n",
       "\n",
       "    .dataframe tbody tr th {\n",
       "        vertical-align: top;\n",
       "    }\n",
       "\n",
       "    .dataframe thead th {\n",
       "        text-align: right;\n",
       "    }\n",
       "</style>\n",
       "<table border=\"1\" class=\"dataframe\">\n",
       "  <thead>\n",
       "    <tr style=\"text-align: right;\">\n",
       "      <th></th>\n",
       "      <th>text</th>\n",
       "      <th>pos1</th>\n",
       "      <th>pos2</th>\n",
       "      <th>label</th>\n",
       "      <th>predict</th>\n",
       "      <th>match</th>\n",
       "    </tr>\n",
       "  </thead>\n",
       "  <tbody>\n",
       "    <tr>\n",
       "      <th>0</th>\n",
       "      <td>电脑已收到，这价位非常给力  客服也非常有耐心</td>\n",
       "      <td>(7, 8)</td>\n",
       "      <td>(9, 12)</td>\n",
       "      <td>正面</td>\n",
       "      <td>正面</td>\n",
       "      <td>True</td>\n",
       "    </tr>\n",
       "    <tr>\n",
       "      <th>1</th>\n",
       "      <td>电脑已收到，这价位非常给力  客服也非常有耐心</td>\n",
       "      <td>(15, 16)</td>\n",
       "      <td>(18, 22)</td>\n",
       "      <td>正面</td>\n",
       "      <td>正面</td>\n",
       "      <td>True</td>\n",
       "    </tr>\n",
       "    <tr>\n",
       "      <th>2</th>\n",
       "      <td>才用了不到一周就开不了机了，耽误事啊</td>\n",
       "      <td>None</td>\n",
       "      <td>(8, 12)</td>\n",
       "      <td>负面</td>\n",
       "      <td>负面</td>\n",
       "      <td>True</td>\n",
       "    </tr>\n",
       "    <tr>\n",
       "      <th>3</th>\n",
       "      <td>每次开机都是这样 客服也不给解决 无语了</td>\n",
       "      <td>(9, 10)</td>\n",
       "      <td>(12, 15)</td>\n",
       "      <td>负面</td>\n",
       "      <td>负面</td>\n",
       "      <td>True</td>\n",
       "    </tr>\n",
       "    <tr>\n",
       "      <th>4</th>\n",
       "      <td>电脑性能强，玩游戏不带卡的，而且手感很好，很顺</td>\n",
       "      <td>(2, 3)</td>\n",
       "      <td>(4, 4)</td>\n",
       "      <td>正面</td>\n",
       "      <td>正面</td>\n",
       "      <td>True</td>\n",
       "    </tr>\n",
       "  </tbody>\n",
       "</table>\n",
       "</div>"
      ],
      "text/plain": [
       "                      text      pos1      pos2 label predict  match\n",
       "0  电脑已收到，这价位非常给力  客服也非常有耐心    (7, 8)   (9, 12)    正面      正面   True\n",
       "1  电脑已收到，这价位非常给力  客服也非常有耐心  (15, 16)  (18, 22)    正面      正面   True\n",
       "2       才用了不到一周就开不了机了，耽误事啊      None   (8, 12)    负面      负面   True\n",
       "3     每次开机都是这样 客服也不给解决 无语了   (9, 10)  (12, 15)    负面      负面   True\n",
       "4  电脑性能强，玩游戏不带卡的，而且手感很好，很顺    (2, 3)    (4, 4)    正面      正面   True"
      ]
     },
     "execution_count": 5,
     "metadata": {},
     "output_type": "execute_result"
    }
   ],
   "source": [
    "data2.head()"
   ]
  },
  {
   "cell_type": "code",
   "execution_count": 6,
   "metadata": {},
   "outputs": [
    {
     "data": {
      "text/html": [
       "<div>\n",
       "<style scoped>\n",
       "    .dataframe tbody tr th:only-of-type {\n",
       "        vertical-align: middle;\n",
       "    }\n",
       "\n",
       "    .dataframe tbody tr th {\n",
       "        vertical-align: top;\n",
       "    }\n",
       "\n",
       "    .dataframe thead th {\n",
       "        text-align: right;\n",
       "    }\n",
       "</style>\n",
       "<table border=\"1\" class=\"dataframe\">\n",
       "  <thead>\n",
       "    <tr style=\"text-align: right;\">\n",
       "      <th></th>\n",
       "      <th>text</th>\n",
       "      <th>pos1</th>\n",
       "      <th>pos2</th>\n",
       "      <th>label</th>\n",
       "      <th>predict</th>\n",
       "      <th>match</th>\n",
       "    </tr>\n",
       "  </thead>\n",
       "  <tbody>\n",
       "    <tr>\n",
       "      <th>24</th>\n",
       "      <td>轻薄，显示器稍觉得淡，速度正常。好评。</td>\n",
       "      <td>(3, 5)</td>\n",
       "      <td>(9, 9)</td>\n",
       "      <td>负面</td>\n",
       "      <td>中性</td>\n",
       "      <td>False</td>\n",
       "    </tr>\n",
       "    <tr>\n",
       "      <th>55</th>\n",
       "      <td>新电脑买了不到十天充不了电了，你们的品质我也是真的服了！</td>\n",
       "      <td>(18, 19)</td>\n",
       "      <td>(23, 26)</td>\n",
       "      <td>负面</td>\n",
       "      <td>正面</td>\n",
       "      <td>False</td>\n",
       "    </tr>\n",
       "    <tr>\n",
       "      <th>62</th>\n",
       "      <td>配置可以，对得起2999元，外壳较簿而且廉价感十足！</td>\n",
       "      <td>(14, 15)</td>\n",
       "      <td>(16, 17)</td>\n",
       "      <td>负面</td>\n",
       "      <td>正面</td>\n",
       "      <td>False</td>\n",
       "    </tr>\n",
       "    <tr>\n",
       "      <th>63</th>\n",
       "      <td>配置可以，对得起2999元，外壳较簿而且廉价感十足！</td>\n",
       "      <td>(14, 15)</td>\n",
       "      <td>(20, 24)</td>\n",
       "      <td>负面</td>\n",
       "      <td>正面</td>\n",
       "      <td>False</td>\n",
       "    </tr>\n",
       "    <tr>\n",
       "      <th>192</th>\n",
       "      <td>东西不错，但是购物体验很差，刚买就又降价100，太@了</td>\n",
       "      <td>None</td>\n",
       "      <td>(2, 3)</td>\n",
       "      <td>负面</td>\n",
       "      <td>正面</td>\n",
       "      <td>False</td>\n",
       "    </tr>\n",
       "    <tr>\n",
       "      <th>194</th>\n",
       "      <td>虽然价格降低了不少，可是看到实物后真有点后悔，这个屏幕的分辨率实在惨不忍睹，对分辨率要求高的...</td>\n",
       "      <td>(2, 3)</td>\n",
       "      <td>(5, 8)</td>\n",
       "      <td>正面</td>\n",
       "      <td>负面</td>\n",
       "      <td>False</td>\n",
       "    </tr>\n",
       "  </tbody>\n",
       "</table>\n",
       "</div>"
      ],
      "text/plain": [
       "                                                  text      pos1      pos2  \\\n",
       "24                                 轻薄，显示器稍觉得淡，速度正常。好评。    (3, 5)    (9, 9)   \n",
       "55                        新电脑买了不到十天充不了电了，你们的品质我也是真的服了！  (18, 19)  (23, 26)   \n",
       "62                          配置可以，对得起2999元，外壳较簿而且廉价感十足！  (14, 15)  (16, 17)   \n",
       "63                          配置可以，对得起2999元，外壳较簿而且廉价感十足！  (14, 15)  (20, 24)   \n",
       "192                        东西不错，但是购物体验很差，刚买就又降价100，太@了      None    (2, 3)   \n",
       "194  虽然价格降低了不少，可是看到实物后真有点后悔，这个屏幕的分辨率实在惨不忍睹，对分辨率要求高的...    (2, 3)    (5, 8)   \n",
       "\n",
       "    label predict  match  \n",
       "24     负面      中性  False  \n",
       "55     负面      正面  False  \n",
       "62     负面      正面  False  \n",
       "63     负面      正面  False  \n",
       "192    负面      正面  False  \n",
       "194    正面      负面  False  "
      ]
     },
     "execution_count": 6,
     "metadata": {},
     "output_type": "execute_result"
    }
   ],
   "source": [
    "data2[data2.match==False]"
   ]
  },
  {
   "cell_type": "code",
   "execution_count": 13,
   "metadata": {},
   "outputs": [],
   "source": [
    "data2['match2'] = data['match']"
   ]
  },
  {
   "cell_type": "code",
   "execution_count": 15,
   "metadata": {},
   "outputs": [
    {
     "data": {
      "text/plain": [
       "1238"
      ]
     },
     "execution_count": 15,
     "metadata": {},
     "output_type": "execute_result"
    }
   ],
   "source": [
    "data2.apply(lambda x:x.match and x.match2,axis=1).sum()"
   ]
  },
  {
   "cell_type": "code",
   "execution_count": 16,
   "metadata": {},
   "outputs": [
    {
     "data": {
      "text/plain": [
       "0.93293142426526"
      ]
     },
     "execution_count": 16,
     "metadata": {},
     "output_type": "execute_result"
    }
   ],
   "source": [
    "1238/data2.shape[0]"
   ]
  },
  {
   "cell_type": "code",
   "execution_count": 25,
   "metadata": {},
   "outputs": [],
   "source": [
    "for i in data['text']:\n",
    "    if '货已收到了' in i:\n",
    "        print(i)"
   ]
  },
  {
   "cell_type": "code",
   "execution_count": 24,
   "metadata": {},
   "outputs": [
    {
     "data": {
      "text/plain": [
       "'分超'"
      ]
     },
     "execution_count": 24,
     "metadata": {},
     "output_type": "execute_result"
    }
   ],
   "source": [
    "'味道淡淡的 水分超足 没有刺激感'[7:9]"
   ]
  },
  {
   "cell_type": "code",
   "execution_count": 21,
   "metadata": {},
   "outputs": [
    {
     "data": {
      "text/plain": [
       "'水分'"
      ]
     },
     "execution_count": 21,
     "metadata": {},
     "output_type": "execute_result"
    }
   ],
   "source": [
    "data.loc[1048,'text'][7:9]"
   ]
  },
  {
   "cell_type": "code",
   "execution_count": 44,
   "metadata": {},
   "outputs": [],
   "source": [
    "data['pos1'].values[0]"
   ]
  },
  {
   "cell_type": "code",
   "execution_count": 56,
   "metadata": {},
   "outputs": [
    {
     "name": "stdout",
     "output_type": "stream",
     "text": [
      "348\n"
     ]
    }
   ],
   "source": [
    "c = 0\n",
    "for index,row in data.iterrows():\n",
    "    if row['pos1'] is not None and row['pos2'] is not None:\n",
    "        c+=1\n",
    "print(c)"
   ]
  },
  {
   "cell_type": "code",
   "execution_count": 57,
   "metadata": {},
   "outputs": [
    {
     "data": {
      "text/plain": [
       "(1327, 6)"
      ]
     },
     "execution_count": 57,
     "metadata": {},
     "output_type": "execute_result"
    }
   ],
   "source": [
    "data.shape"
   ]
  },
  {
   "cell_type": "code",
   "execution_count": 53,
   "metadata": {},
   "outputs": [
    {
     "data": {
      "text/plain": [
       "0"
      ]
     },
     "execution_count": 53,
     "metadata": {},
     "output_type": "execute_result"
    }
   ],
   "source": [
    "data.apply(lambda x: 1 if str(x.pos2)[0]!='(' and str(x.pos1)[0] !='(' else 0,axis=1).sum()"
   ]
  },
  {
   "cell_type": "code",
   "execution_count": 30,
   "metadata": {},
   "outputs": [
    {
     "data": {
      "text/plain": [
       "正面    1187\n",
       "负面     118\n",
       "中性      22\n",
       "Name: label, dtype: int64"
      ]
     },
     "execution_count": 30,
     "metadata": {},
     "output_type": "execute_result"
    }
   ],
   "source": [
    "data['label'].value_counts()"
   ]
  },
  {
   "cell_type": "code",
   "execution_count": null,
   "metadata": {},
   "outputs": [],
   "source": []
  }
 ],
 "metadata": {
  "kernelspec": {
   "display_name": "Python 3",
   "language": "python",
   "name": "python3"
  },
  "language_info": {
   "codemirror_mode": {
    "name": "ipython",
    "version": 3
   },
   "file_extension": ".py",
   "mimetype": "text/x-python",
   "name": "python",
   "nbconvert_exporter": "python",
   "pygments_lexer": "ipython3",
   "version": "3.7.3"
  }
 },
 "nbformat": 4,
 "nbformat_minor": 2
}
